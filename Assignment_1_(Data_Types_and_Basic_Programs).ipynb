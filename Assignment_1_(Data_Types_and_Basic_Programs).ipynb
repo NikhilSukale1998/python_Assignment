{
 "cells": [
  {
   "cell_type": "markdown",
   "id": "9cacd9e4",
   "metadata": {
    "id": "9cacd9e4"
   },
   "source": [
    "# Data Types & Basic Programs\n",
    "- Write solution of each question in the cell given below the corresponsing question."
   ]
  },
  {
   "cell_type": "markdown",
   "id": "a36a3683",
   "metadata": {
    "id": "a36a3683"
   },
   "source": [
    "#### 1. Write a program to take principal amount, rate and interest as input and calculate simple interest."
   ]
  },
  {
   "cell_type": "code",
   "execution_count": 9,
   "id": "iyGa2yN7bkZL",
   "metadata": {
    "colab": {
     "base_uri": "https://localhost:8080/",
     "height": 130
    },
    "id": "iyGa2yN7bkZL",
    "outputId": "43c86045-073b-48a6-b7fb-8895e19b4b9c"
   },
   "outputs": [
    {
     "name": "stdout",
     "output_type": "stream",
     "text": [
      "enter the pricipal amount 100\n",
      "enter the time period 2\n",
      "enter the interest 3\n",
      "the simple interest is  106.0\n"
     ]
    }
   ],
   "source": [
    "principal_amount=input('enter the pricipal amount ')\n",
    "time=input('enter the time period ')\n",
    "interest=input('enter the interest ')\n",
    "si=(principal_amount*rate*interest)/100\n",
    "print('the simple interest is ' ,si+principal_amount)"
   ]
  },
  {
   "cell_type": "markdown",
   "id": "3a9994e0",
   "metadata": {
    "id": "3a9994e0"
   },
   "source": [
    "#### 2. Write a program that takes a string as input and prints the number of words in the string."
   ]
  },
  {
   "cell_type": "code",
   "execution_count": 12,
   "id": "9VbTZFFQfHCm",
   "metadata": {
    "id": "9VbTZFFQfHCm"
   },
   "outputs": [
    {
     "name": "stdout",
     "output_type": "stream",
     "text": [
      "enter the string 456\n",
      "3\n"
     ]
    }
   ],
   "source": [
    "string=input('enter the string ')\n",
    "print(len(string))"
   ]
  },
  {
   "cell_type": "markdown",
   "id": "8a8d5e27",
   "metadata": {
    "id": "8a8d5e27"
   },
   "source": [
    "#### 3. Write a program to take a list of numbers as input (in a single line) and print the sum, avg, max and min elements."
   ]
  },
  {
   "cell_type": "code",
   "execution_count": 1,
   "id": "40dfe5b9",
   "metadata": {},
   "outputs": [
    {
     "name": "stdout",
     "output_type": "stream",
     "text": [
      "1  2\n",
      "the given list is  [1, 2]\n",
      "the sum is 3 and average is 1.5 and max elemnt in list is 2 and min element is 1\n",
      "2\n",
      "1\n"
     ]
    }
   ],
   "source": [
    "lst = list(map(int, input().split()))\n",
    "print('the given list is '  ,lst)\n",
    "sums= sum(lst)\n",
    "#for i in lst:\n",
    " #   sums += i\n",
    "#print(sums)\n",
    "avg=sums/len(lst)\n",
    "print(f\"the sum is {sums} and average is {avg} and max elemnt in list is {max(lst)} and min element is {min(lst)}\")\n",
    "print(max(lst))\n",
    "print(min(lst))"
   ]
  },
  {
   "cell_type": "markdown",
   "id": "17dbd6e8",
   "metadata": {
    "id": "17dbd6e8"
   },
   "source": [
    "#### 4. Write a program to take the marks of 3 students in five subjects each as a list (one list for each input) as input and print the average score of each student.."
   ]
  },
  {
   "cell_type": "code",
   "execution_count": 8,
   "id": "BTd2sM7i9sui",
   "metadata": {
    "id": "BTd2sM7i9sui"
   },
   "outputs": [
    {
     "name": "stdout",
     "output_type": "stream",
     "text": [
      "marks of 5 sub10,10,10,10,10\n",
      "marks of 5 sub10,10,10,10,10\n"
     ]
    },
    {
     "ename": "ValueError",
     "evalue": "invalid literal for int() with base 10: '10,10,10,10,10'",
     "output_type": "error",
     "traceback": [
      "\u001b[1;31m---------------------------------------------------------------------------\u001b[0m",
      "\u001b[1;31mValueError\u001b[0m                                Traceback (most recent call last)",
      "\u001b[1;32m~\\AppData\\Local\\Temp\\ipykernel_5460\\3510058868.py\u001b[0m in \u001b[0;36m<module>\u001b[1;34m\u001b[0m\n\u001b[0;32m      1\u001b[0m \u001b[0mmar\u001b[0m\u001b[1;33m=\u001b[0m\u001b[0mlist\u001b[0m\u001b[1;33m(\u001b[0m\u001b[0mmap\u001b[0m\u001b[1;33m(\u001b[0m\u001b[0mint\u001b[0m\u001b[1;33m,\u001b[0m\u001b[1;33m(\u001b[0m\u001b[0minput\u001b[0m\u001b[1;33m(\u001b[0m\u001b[1;34m'marks of 5 sub'\u001b[0m\u001b[1;33m)\u001b[0m\u001b[1;33m.\u001b[0m\u001b[0msplit\u001b[0m\u001b[1;33m(\u001b[0m\u001b[1;34m\",\"\u001b[0m\u001b[1;33m)\u001b[0m\u001b[1;33m)\u001b[0m\u001b[1;33m)\u001b[0m\u001b[1;33m)\u001b[0m\u001b[1;33m\u001b[0m\u001b[1;33m\u001b[0m\u001b[0m\n\u001b[1;32m----> 2\u001b[1;33m \u001b[0mhin\u001b[0m\u001b[1;33m=\u001b[0m\u001b[0mlist\u001b[0m\u001b[1;33m(\u001b[0m\u001b[0mmap\u001b[0m\u001b[1;33m(\u001b[0m\u001b[0mint\u001b[0m\u001b[1;33m,\u001b[0m\u001b[1;33m(\u001b[0m\u001b[0minput\u001b[0m\u001b[1;33m(\u001b[0m\u001b[1;34m'marks of 5 sub'\u001b[0m\u001b[1;33m)\u001b[0m\u001b[1;33m.\u001b[0m\u001b[0msplit\u001b[0m\u001b[1;33m(\u001b[0m\u001b[1;33m)\u001b[0m\u001b[1;33m)\u001b[0m\u001b[1;33m)\u001b[0m\u001b[1;33m)\u001b[0m\u001b[1;33m\u001b[0m\u001b[1;33m\u001b[0m\u001b[0m\n\u001b[0m\u001b[0;32m      3\u001b[0m \u001b[0meng\u001b[0m\u001b[1;33m=\u001b[0m\u001b[0mlist\u001b[0m\u001b[1;33m(\u001b[0m\u001b[0mmap\u001b[0m\u001b[1;33m(\u001b[0m\u001b[0mint\u001b[0m\u001b[1;33m,\u001b[0m\u001b[1;33m(\u001b[0m\u001b[0minput\u001b[0m\u001b[1;33m(\u001b[0m\u001b[1;34m'marks of 5 sub'\u001b[0m\u001b[1;33m)\u001b[0m\u001b[1;33m.\u001b[0m\u001b[0msplit\u001b[0m\u001b[1;33m(\u001b[0m\u001b[1;33m)\u001b[0m\u001b[1;33m)\u001b[0m\u001b[1;33m)\u001b[0m\u001b[1;33m)\u001b[0m\u001b[1;33m\u001b[0m\u001b[1;33m\u001b[0m\u001b[0m\n\u001b[0;32m      4\u001b[0m \u001b[0mavg_mar\u001b[0m\u001b[1;33m=\u001b[0m \u001b[0msum\u001b[0m\u001b[1;33m(\u001b[0m\u001b[0mmar\u001b[0m\u001b[1;33m)\u001b[0m\u001b[1;33m/\u001b[0m\u001b[0mlen\u001b[0m\u001b[1;33m(\u001b[0m\u001b[0mmar\u001b[0m\u001b[1;33m)\u001b[0m\u001b[1;33m\u001b[0m\u001b[1;33m\u001b[0m\u001b[0m\n\u001b[0;32m      5\u001b[0m \u001b[0mavg_hin\u001b[0m\u001b[1;33m=\u001b[0m \u001b[0msum\u001b[0m\u001b[1;33m(\u001b[0m\u001b[0mhin\u001b[0m\u001b[1;33m)\u001b[0m\u001b[1;33m/\u001b[0m\u001b[0mlen\u001b[0m\u001b[1;33m(\u001b[0m\u001b[0mhin\u001b[0m\u001b[1;33m)\u001b[0m\u001b[1;33m\u001b[0m\u001b[1;33m\u001b[0m\u001b[0m\n",
      "\u001b[1;31mValueError\u001b[0m: invalid literal for int() with base 10: '10,10,10,10,10'"
     ]
    }
   ],
   "source": [
    "mar=list(map(int,(input('marks of 5 sub').split(\",\"))))\n",
    "hin=list(map(int,(input('marks of 5 sub').split())))\n",
    "eng=list(map(int,(input('marks of 5 sub').split())))\n",
    "avg_mar= sum(mar)/len(mar)\n",
    "avg_hin= sum(hin)/len(hin)\n",
    "avg_eng= sum(eng)/len(eng)\n",
    "print(avg_mar)\n",
    "print(avg_hin)\n",
    "print(avg_eng)"
   ]
  },
  {
   "cell_type": "markdown",
   "id": "39fb8526",
   "metadata": {
    "id": "39fb8526"
   },
   "source": [
    "#### 5. Write a program to take a list as input containing results of 10 coin tosses as 'H' or 'T'. Jon gets a point for each 'T' and Tom gets a point for each 'H'. print the points recieved by both."
   ]
  },
  {
   "cell_type": "code",
   "execution_count": 20,
   "id": "Ijvfc63fHr8B",
   "metadata": {
    "id": "Ijvfc63fHr8B"
   },
   "outputs": [
    {
     "name": "stdout",
     "output_type": "stream",
     "text": [
      "enter the 10  coin toss result(h or t) h h h h ht t t t t\n",
      "5\n",
      "5\n"
     ]
    }
   ],
   "source": [
    "toss=list(input(\"enter the 10  coin toss result(h or t) \").upper())\n",
    "jon_points=toss.count(\"T\")\n",
    "tom_points=toss.count(\"H\")\n",
    "\n",
    "print(jon_points)\n",
    "print(tom_points)\n",
    "\n"
   ]
  },
  {
   "cell_type": "markdown",
   "id": "4a6dc391",
   "metadata": {
    "id": "4a6dc391"
   },
   "source": [
    "#### 6. Take two numbers as input and print the result after swapping them. (Without using multiple assignment and any extra variable)."
   ]
  },
  {
   "cell_type": "code",
   "execution_count": 3,
   "id": "oiSoXznqZbC_",
   "metadata": {
    "id": "oiSoXznqZbC_"
   },
   "outputs": [
    {
     "name": "stdout",
     "output_type": "stream",
     "text": [
      "enter the number a=1\n",
      "enter the number b=2\n",
      "the value of a after swapping a= 2\n",
      "the value of a after swapping b= 1\n"
     ]
    }
   ],
   "source": [
    "a=int(input(\"enter the number a=\",))\n",
    "b=int(input(\"enter the number b=\",))\n",
    "a=a+b\n",
    "b=a-b\n",
    "a=a-b\n",
    "print(\"the value of a after swapping a=\",a)\n",
    "print(\"the value of a after swapping b=\",b)"
   ]
  },
  {
   "cell_type": "markdown",
   "id": "b0059e36",
   "metadata": {
    "id": "b0059e36"
   },
   "source": [
    "#### 7. Take a list as input in a single line containing 10 numbers as marks out of 100. The even positions in the list are marks of Tom and the odd positions are the marks of Jon. Calculate the average marks of both."
   ]
  },
  {
   "cell_type": "code",
   "execution_count": 42,
   "id": "dzK-bSIM6rh6",
   "metadata": {
    "id": "dzK-bSIM6rh6"
   },
   "outputs": [
    {
     "name": "stdout",
     "output_type": "stream",
     "text": [
      "enter the 10 marks  10 20 10 20 10 20 10 20 10 20\n",
      "10.0\n",
      "20.0\n"
     ]
    }
   ],
   "source": [
    "marks=list(map(int,input('enter the 10 marks  ').split()))\n",
    "Tom=[]\n",
    "Jon=[]\n",
    "for i in range(len(marks)):\n",
    "    if i%2==0:\n",
    "        #print(marks[i])\n",
    "        Tom.append(marks[i])\n",
    "    else:\n",
    "        Jon.append(marks[i])\n",
    "avg_tom=sum(Tom)/len(Tom)\n",
    "avg_jon=sum(Jon)/len(Jon)\n",
    "print(avg_tom)\n",
    "print(avg_jon)\n"
   ]
  },
  {
   "cell_type": "markdown",
   "id": "f07dab7c",
   "metadata": {
    "id": "f07dab7c"
   },
   "source": [
    "#### 8. Take a string and a character as input. Print the result having the character between each word of the given string."
   ]
  },
  {
   "cell_type": "code",
   "execution_count": 4,
   "id": "Bak8JEWdAAFv",
   "metadata": {
    "id": "Bak8JEWdAAFv"
   },
   "outputs": [
    {
     "name": "stdout",
     "output_type": "stream",
     "text": [
      "enter the string nikhil sukale\n",
      "enter the the character@\n",
      "nikhil@sukale\n"
     ]
    }
   ],
   "source": [
    "str=input(\"enter the string \",)\n",
    "char=input(\"enter the the character\",)\n",
    "word=str.split()\n",
    "string=char.join(word)\n",
    "print(string)\n"
   ]
  },
  {
   "cell_type": "markdown",
   "id": "a45320b7",
   "metadata": {
    "id": "a45320b7"
   },
   "source": [
    "#### 9. Create a dictionary having three items. Key of each item is the name of a student, value associated with each key is a list of marks in five subjects. Given this dictionary print the average score of each student."
   ]
  },
  {
   "cell_type": "code",
   "execution_count": 27,
   "id": "_WpSWzXdLyri",
   "metadata": {
    "id": "_WpSWzXdLyri"
   },
   "outputs": [
    {
     "name": "stdout",
     "output_type": "stream",
     "text": [
      "the average marks of ram is  14.4\n",
      "the average marks of sham is  26.4\n",
      "the average marks of raj is  44.0\n"
     ]
    }
   ],
   "source": [
    "student={'ram':[12,14,15,18,13], 'sham':[11,10,8,12,19],'raj':[14,18,19,17,20]}\n",
    "sums=0\n",
    "for i in student.keys():\n",
    "    #print(i)\n",
    "    #print(student[i])\n",
    "    for j in student[i]:\n",
    "        #print(j)\n",
    "        sums+= j\n",
    "    print(f'the average marks of {i} is ', sums/len(student[i]))"
   ]
  },
  {
   "cell_type": "markdown",
   "id": "aba63bd1",
   "metadata": {
    "id": "aba63bd1"
   },
   "source": [
    "#### 10. Take a string as input(may contain repetitive words), print a list consisting of unique words from the given string."
   ]
  },
  {
   "cell_type": "code",
   "execution_count": 6,
   "id": "Wrc5hOBIF-ww",
   "metadata": {
    "id": "Wrc5hOBIF-ww"
   },
   "outputs": [
    {
     "name": "stdout",
     "output_type": "stream",
     "text": [
      "Enter the string contain repitative words ni ni kh ji km jm jm\n"
     ]
    },
    {
     "data": {
      "text/plain": [
       "['jm', 'ni', 'ji', 'km', 'kh']"
      ]
     },
     "execution_count": 6,
     "metadata": {},
     "output_type": "execute_result"
    }
   ],
   "source": [
    "string=input('Enter the string contain repitative words ')\n",
    "\n",
    "unique = set(string.split())\n",
    "\n",
    "unique_word=list(unique)\n",
    "unique_word"
   ]
  },
  {
   "cell_type": "code",
   "execution_count": null,
   "id": "7f0ad679",
   "metadata": {},
   "outputs": [],
   "source": []
  }
 ],
 "metadata": {
  "colab": {
   "provenance": []
  },
  "kernelspec": {
   "display_name": "Python 3 (ipykernel)",
   "language": "python",
   "name": "python3"
  },
  "language_info": {
   "codemirror_mode": {
    "name": "ipython",
    "version": 3
   },
   "file_extension": ".py",
   "mimetype": "text/x-python",
   "name": "python",
   "nbconvert_exporter": "python",
   "pygments_lexer": "ipython3",
   "version": "3.9.13"
  }
 },
 "nbformat": 4,
 "nbformat_minor": 5
}
