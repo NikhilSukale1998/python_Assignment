{
 "cells": [
  {
   "cell_type": "markdown",
   "id": "9acd52dd",
   "metadata": {
    "id": "9acd52dd"
   },
   "source": [
    "# Assessment - 4 Gradable\n",
    "\n",
    "- Each question carries 5 marks\n",
    "- Marks will be assigned in terms of:\n",
    "\n",
    "    **1. Expected output**\n",
    "\n",
    "    **2. Quality and Explainability of code**\n",
    "\n",
    "    ***Go back through the script and type a comment above each line explaining in English what it does.***\n",
    "\n",
    "    **3. Copied code, if found, will result in 0 marks for that question. To avoid this make as much comments in the code to explain the approach**"
   ]
  },
  {
   "cell_type": "markdown",
   "id": "1dd6b730",
   "metadata": {
    "id": "1dd6b730"
   },
   "source": [
    "### 1.\n",
    "\n",
    "Write a function ``clap_tap`` that prints the integers from 1 to 100. But for multiples of three print \"Clap\" instead of the number, and for the multiples of five print \"Tap\". For numbers which are multiples of both three and five print \"ClapTap\"."
   ]
  },
  {
   "cell_type": "code",
   "execution_count": 5,
   "id": "04ae6248",
   "metadata": {
    "id": "04ae6248"
   },
   "outputs": [
    {
     "name": "stdout",
     "output_type": "stream",
     "text": [
      "1\n",
      "2\n",
      "Clap\n",
      "4\n",
      "Tap\n",
      "Clap\n",
      "7\n",
      "8\n",
      "Clap\n",
      "Tap\n",
      "11\n",
      "Clap\n",
      "13\n",
      "14\n",
      "ClapTap\n",
      "16\n",
      "17\n",
      "Clap\n",
      "19\n",
      "Tap\n",
      "Clap\n",
      "22\n",
      "23\n",
      "Clap\n",
      "Tap\n",
      "26\n",
      "Clap\n",
      "28\n",
      "29\n",
      "ClapTap\n",
      "31\n",
      "32\n",
      "Clap\n",
      "34\n",
      "Tap\n",
      "Clap\n",
      "37\n",
      "38\n",
      "Clap\n",
      "Tap\n",
      "41\n",
      "Clap\n",
      "43\n",
      "44\n",
      "ClapTap\n",
      "46\n",
      "47\n",
      "Clap\n",
      "49\n",
      "Tap\n",
      "Clap\n",
      "52\n",
      "53\n",
      "Clap\n",
      "Tap\n",
      "56\n",
      "Clap\n",
      "58\n",
      "59\n",
      "ClapTap\n",
      "61\n",
      "62\n",
      "Clap\n",
      "64\n",
      "Tap\n",
      "Clap\n",
      "67\n",
      "68\n",
      "Clap\n",
      "Tap\n",
      "71\n",
      "Clap\n",
      "73\n",
      "74\n",
      "ClapTap\n",
      "76\n",
      "77\n",
      "Clap\n",
      "79\n",
      "Tap\n",
      "Clap\n",
      "82\n",
      "83\n",
      "Clap\n",
      "Tap\n",
      "86\n",
      "Clap\n",
      "88\n",
      "89\n",
      "ClapTap\n",
      "91\n",
      "92\n",
      "Clap\n",
      "94\n",
      "Tap\n",
      "Clap\n",
      "97\n",
      "98\n",
      "Clap\n",
      "Tap\n"
     ]
    }
   ],
   "source": [
    "def clap_tap():\n",
    "    for i in range (1,101):\n",
    "        if i%3==0 and i%5==0:\n",
    "            print('ClapTap')\n",
    "        elif i%5==0:\n",
    "            print('Tap')\n",
    "        elif i%3==0  :\n",
    "            print('Clap')\n",
    "        else:\n",
    "            print(i)\n",
    "clap_tap()"
   ]
  },
  {
   "cell_type": "markdown",
   "id": "ffc26930",
   "metadata": {
    "id": "ffc26930"
   },
   "source": [
    "### 2.\n",
    "\n",
    "ANIMAL CRACKERS: Write a function takes a two-word string and returns True if both words begin with same letter and returns False if both words begin with different letter\n",
    "- animal_crackers('Levelheaded Lion') --> True\n",
    "- animal_crackers('Cute Kangaroo') --> False"
   ]
  },
  {
   "cell_type": "code",
   "execution_count": 8,
   "id": "dbaf2f2a",
   "metadata": {
    "id": "dbaf2f2a"
   },
   "outputs": [
    {
     "data": {
      "text/plain": [
       "True"
      ]
     },
     "execution_count": 8,
     "metadata": {},
     "output_type": "execute_result"
    }
   ],
   "source": [
    "def animal_crackers(text):\n",
    "    wordlist = text.split()\n",
    "    return wordlist[0][0] == wordlist[1][0]\n",
    "animal_crackers('nikhil nag')"
   ]
  },
  {
   "cell_type": "markdown",
   "id": "eec7fc6c",
   "metadata": {
    "id": "eec7fc6c"
   },
   "source": [
    "### 3.\n",
    "\n",
    "Create a function ``shout_out`` Given a string, return a string where:\n",
    "#### for every character in the original there are three characters\n",
    "\n",
    "    - shout_out('character') --> 'ccchhhaaarrraaacccttteeerrr'\n",
    "    - shout_out('original') --> 'ooorrriiigggiiinnnaaalll'"
   ]
  },
  {
   "cell_type": "code",
   "execution_count": 15,
   "id": "4de40729",
   "metadata": {
    "id": "4de40729"
   },
   "outputs": [
    {
     "data": {
      "text/plain": [
       "'nnniiikkksss'"
      ]
     },
     "execution_count": 15,
     "metadata": {},
     "output_type": "execute_result"
    }
   ],
   "source": [
    "def shout_out(text):\n",
    "    strg=''\n",
    "    for i in text:\n",
    "        k= i*3\n",
    "        strg +=  k\n",
    "    return strg\n",
    "shout_out('niks')"
   ]
  },
  {
   "cell_type": "markdown",
   "id": "6739aeef",
   "metadata": {
    "id": "6739aeef"
   },
   "source": [
    " 4.\n",
    "\n",
    "Create a function ``ignore_6_to_9`` that returns the sum of the numbers in the array, except ignore sections of numbers starting with a 6 and extending to the next 9 (every 6 will be followed by at least one 9). Return 0 for no numbers.\n",
    "\n",
    "- ignore_6_to_9([1, 3, 5]) --> 9\n",
    "- ignore_6_to_9([4, 5, 6, 7, 8, 9]) --> 9\n",
    "- ignore_6_to_9([2, 1, 6, 9, 11]) --> 14"
   ]
  },
  {
   "cell_type": "code",
   "execution_count": 22,
   "id": "1ec4e63e",
   "metadata": {
    "id": "1ec4e63e"
   },
   "outputs": [
    {
     "data": {
      "text/plain": [
       "9"
      ]
     },
     "execution_count": 22,
     "metadata": {},
     "output_type": "execute_result"
    }
   ],
   "source": [
    "def ignore_6_to_9(lst):\n",
    "    sums= 0\n",
    "    for i in lst:\n",
    "        if i in range(6,10):\n",
    "            continue\n",
    "        else:\n",
    "            sums+=i\n",
    "    return sums\n",
    "ignore_6_to_9([4,5,6,7,8,9])"
   ]
  },
  {
   "cell_type": "markdown",
   "id": "af46e819",
   "metadata": {
    "id": "af46e819"
   },
   "source": [
    "### 5.\n",
    "\n",
    "Write a program to iterate the first 10 numbers and in each iteration, print the sum of the current and previous number.\n",
    "\n",
    "- Current Number 0 Previous Number  0  Sum:  0\n",
    "- Current Number 1 Previous Number  0  Sum:  1 and so on"
   ]
  },
  {
   "cell_type": "code",
   "execution_count": 3,
   "id": "830a0664",
   "metadata": {
    "id": "830a0664"
   },
   "outputs": [
    {
     "name": "stdout",
     "output_type": "stream",
     "text": [
      "0\n",
      "sum is  0\n",
      "1\n",
      "sum is  1\n",
      "2\n",
      "sum is  3\n",
      "3\n",
      "sum is  6\n",
      "4\n",
      "sum is  10\n",
      "5\n",
      "sum is  15\n",
      "6\n",
      "sum is  21\n",
      "7\n",
      "sum is  28\n",
      "8\n",
      "sum is  36\n",
      "9\n",
      "sum is  45\n",
      "10\n",
      "sum is  55\n"
     ]
    }
   ],
   "source": [
    "total=0\n",
    "for i in range(11):\n",
    "    total+=i\n",
    "    print(i)\n",
    "    print('sum is ',total)"
   ]
  }
 ],
 "metadata": {
  "colab": {
   "provenance": []
  },
  "kernelspec": {
   "display_name": "Python 3 (ipykernel)",
   "language": "python",
   "name": "python3"
  },
  "language_info": {
   "codemirror_mode": {
    "name": "ipython",
    "version": 3
   },
   "file_extension": ".py",
   "mimetype": "text/x-python",
   "name": "python",
   "nbconvert_exporter": "python",
   "pygments_lexer": "ipython3",
   "version": "3.9.13"
  }
 },
 "nbformat": 4,
 "nbformat_minor": 5
}
