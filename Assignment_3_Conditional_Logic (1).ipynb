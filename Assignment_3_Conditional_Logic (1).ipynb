{
 "cells": [
  {
   "cell_type": "markdown",
   "id": "c6ec5c42",
   "metadata": {
    "id": "c6ec5c42"
   },
   "source": [
    "# Assessment - 3 Gradable\n",
    "\n",
    "- Each question carries 3 or 4 marks\n",
    "- Marks will be assigned in terms of:\n",
    "\n",
    "    **1. Expected output**\n",
    "\n",
    "    **2. Quality and Explainability of code**\n",
    "\n",
    "    ***Go back through the script and type a comment above each line explaining in English what it does.***\n",
    "\n",
    "    **3. Copied code, if found, will result in 0 marks for that question. To avoid this make as much comments in the code to explain the approach**"
   ]
  },
  {
   "cell_type": "markdown",
   "id": "8698053e",
   "metadata": {
    "id": "8698053e"
   },
   "source": [
    "1.\n",
    "Go through the string below and if the length of a word is even print \"even!\"\n",
    "\n",
    "string = 'I know how to print every word in this sentence that has an even number of letters'"
   ]
  },
  {
   "cell_type": "code",
   "execution_count": 6,
   "id": "4dec28a9",
   "metadata": {
    "id": "4dec28a9"
   },
   "outputs": [
    {
     "name": "stdout",
     "output_type": "stream",
     "text": [
      "know\n",
      "even\n",
      "to\n",
      "even\n",
      "word\n",
      "even\n",
      "in\n",
      "even\n",
      "this\n",
      "even\n",
      "sentence\n",
      "even\n",
      "that\n",
      "even\n",
      "an\n",
      "even\n",
      "even\n",
      "even\n",
      "number\n",
      "even\n",
      "of\n",
      "even\n"
     ]
    }
   ],
   "source": [
    "string = 'I know how to print every word in this sentence that has an even number of letters'\n",
    "lst=string.split()\n",
    "lst\n",
    "for i in lst :\n",
    "    \n",
    "    if len(i)%2==0 :\n",
    "        print(i)\n",
    "        print('even')"
   ]
  },
  {
   "cell_type": "markdown",
   "id": "8569bc4e",
   "metadata": {
    "id": "8569bc4e"
   },
   "source": [
    "### 2.\n",
    "\n",
    "Create a function ``lets_find_88`` Given a list of ints, return True if the array contains a 8 next to a 8 somewhere.\n",
    "- lets_find_88([1, 8, 8]) → True\n",
    "- lets_find_88([1, 8, 1, 8]) → False\n",
    "- lets_find_88([8, 1, 8]) → False"
   ]
  },
  {
   "cell_type": "code",
   "execution_count": 114,
   "id": "9ccfca15",
   "metadata": {
    "id": "9ccfca15"
   },
   "outputs": [],
   "source": [
    "def lets_find_88(lst1) :\n",
    "    for i in range(len(lst1)):\n",
    "            if ( (lst1[i]==8) and (lst1[i+1]==8)):\n",
    "                return True\n",
    "                break\n",
    "    return False\n",
    "    "
   ]
  },
  {
   "cell_type": "code",
   "execution_count": 117,
   "id": "793f6d60",
   "metadata": {},
   "outputs": [
    {
     "data": {
      "text/plain": [
       "False"
      ]
     },
     "execution_count": 117,
     "metadata": {},
     "output_type": "execute_result"
    }
   ],
   "source": [
    "lst1=[1,8,5,8,2,8,1]\n",
    "lets_find_88(lst1)"
   ]
  },
  {
   "cell_type": "markdown",
   "id": "40759409",
   "metadata": {
    "id": "40759409"
   },
   "source": [
    "### 3.\n",
    "\n",
    " Calculate and display the sum of all the numbers divisible by 7 between 18 and 534.\n",
    "\n",
    " Hint: One way to do this is to loop over a 'range' using 'for' loop and use an 'if' statement inside it."
   ]
  },
  {
   "cell_type": "code",
   "execution_count": 1,
   "id": "f7409469",
   "metadata": {
    "id": "f7409469"
   },
   "outputs": [
    {
     "name": "stdout",
     "output_type": "stream",
     "text": [
      "[21, 28, 35, 42, 49, 56, 63, 70, 77, 84, 91, 98, 105, 112, 119, 126, 133, 140, 147, 154, 161, 168, 175, 182, 189, 196, 203, 210, 217, 224, 231, 238, 245, 252, 259, 266, 273, 280, 287, 294, 301, 308, 315, 322, 329, 336, 343, 350]\n",
      "8904\n"
     ]
    }
   ],
   "source": [
    "total= 0\n",
    "li=[]\n",
    "for i in range(18,355):\n",
    "    if i%7==0:\n",
    "        li.append(i)\n",
    "        total += i\n",
    "print(li)\n",
    "print(total)"
   ]
  },
  {
   "cell_type": "markdown",
   "id": "0dd3847a",
   "metadata": {
    "id": "0dd3847a"
   },
   "source": [
    "### 4.\n",
    "\n",
    "Create a list containing the following 3 elements:\n",
    "\n",
    "- Subject person had taken\n",
    "- Marks Achieved\n",
    "- a boolean value showing previous programming experience\n",
    "\n",
    "and Complete the following 'print' and 'if' statements by accessing the appropriate elements from my_list."
   ]
  },
  {
   "cell_type": "code",
   "execution_count": null,
   "id": "5c87efcb",
   "metadata": {
    "id": "5c87efcb"
   },
   "outputs": [],
   "source": []
  },
  {
   "cell_type": "markdown",
   "id": "a54510f0",
   "metadata": {
    "id": "a54510f0"
   },
   "source": [
    "### 5.\n",
    "\n",
    "Write a function to return True if the first and last number of a given list is same. If numbers are different then return False.\n",
    "\n",
    "- [11, 13, 17, 19, 11] --> True\n",
    "- [24, 36, 12, 31, 42] --> False"
   ]
  },
  {
   "cell_type": "code",
   "execution_count": 1,
   "id": "5d53ba1f",
   "metadata": {
    "id": "5d53ba1f"
   },
   "outputs": [],
   "source": [
    "def last(list1):\n",
    "    if list1[0]==list1[-1]:\n",
    "         return  True\n",
    "    return False"
   ]
  },
  {
   "cell_type": "code",
   "execution_count": 3,
   "id": "2273afb3",
   "metadata": {},
   "outputs": [
    {
     "data": {
      "text/plain": [
       "False"
      ]
     },
     "execution_count": 3,
     "metadata": {},
     "output_type": "execute_result"
    }
   ],
   "source": [
    "last([11,12,15,14,14,12])"
   ]
  },
  {
   "cell_type": "code",
   "execution_count": null,
   "id": "132528a1",
   "metadata": {},
   "outputs": [],
   "source": []
  }
 ],
 "metadata": {
  "colab": {
   "provenance": []
  },
  "kernelspec": {
   "display_name": "Python 3 (ipykernel)",
   "language": "python",
   "name": "python3"
  },
  "language_info": {
   "codemirror_mode": {
    "name": "ipython",
    "version": 3
   },
   "file_extension": ".py",
   "mimetype": "text/x-python",
   "name": "python",
   "nbconvert_exporter": "python",
   "pygments_lexer": "ipython3",
   "version": "3.9.13"
  }
 },
 "nbformat": 4,
 "nbformat_minor": 5
}
