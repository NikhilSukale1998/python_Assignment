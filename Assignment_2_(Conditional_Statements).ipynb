{
 "cells": [
  {
   "cell_type": "markdown",
   "id": "3a10df7a",
   "metadata": {
    "id": "3a10df7a"
   },
   "source": [
    "# Conditional Statements\n",
    "- Write solution of each question in the cell given below the corresponsing question."
   ]
  },
  {
   "cell_type": "markdown",
   "id": "60c2d89a",
   "metadata": {
    "id": "60c2d89a"
   },
   "source": [
    "#### 1. Take a list of numbers as input. Print whether the average is even or odd."
   ]
  },
  {
   "cell_type": "code",
   "execution_count": 17,
   "id": "Fh5bSu8vCRWU",
   "metadata": {
    "id": "Fh5bSu8vCRWU"
   },
   "outputs": [
    {
     "name": "stdout",
     "output_type": "stream",
     "text": [
      "12,12,12,12\n",
      "[12, 12, 12, 12]\n",
      "Average  of list is even 12.0\n"
     ]
    }
   ],
   "source": [
    "li=list(map(int, input().split(\",\")))\n",
    "print(li) \n",
    "\n",
    "avg=sum(li)/len(li)\n",
    "if avg%2==0:\n",
    "    print (\"Average  of list is even\",avg)\n",
    "else:\n",
    "    print (\"Average  of list is odd\",avg)"
   ]
  },
  {
   "cell_type": "markdown",
   "id": "4846bb19",
   "metadata": {
    "id": "4846bb19"
   },
   "source": [
    "#### 2. Take three strings as input. Calculate the number of words in each string and find out the list having highest number of words."
   ]
  },
  {
   "cell_type": "code",
   "execution_count": 29,
   "id": "pfGpZ9okCTfV",
   "metadata": {
    "id": "pfGpZ9okCTfV"
   },
   "outputs": [
    {
     "name": "stdout",
     "output_type": "stream",
     "text": [
      "enter the string my name is nikhil\n",
      "enter the string he is mine\n",
      "enter the string ram sham\n",
      "['my', 'name', 'is', 'nikhil']\n"
     ]
    }
   ],
   "source": [
    "str1=input('enter the string ', )\n",
    "str2=input('enter the string ', )\n",
    "str3=input('enter the string ', )\n",
    "num1=len(str1.split())\n",
    "num2=len(str2.split())\n",
    "num3=len(str3.split())\n",
    "if num1>num2 and num1>num3:\n",
    "    print(str1.split(' '))\n",
    "elif num2>num3:\n",
    "    print(str2.split())\n",
    "else:\n",
    "    print(str3.split())"
   ]
  },
  {
   "cell_type": "markdown",
   "id": "0e0d8196",
   "metadata": {
    "id": "0e0d8196"
   },
   "source": [
    "#### 3. Take four numbers as input in a single line. Find out the largest number."
   ]
  },
  {
   "cell_type": "code",
   "execution_count": 33,
   "id": "Fc_7ETl1CVMu",
   "metadata": {
    "id": "Fc_7ETl1CVMu"
   },
   "outputs": [
    {
     "name": "stdout",
     "output_type": "stream",
     "text": [
      "enter the numbers in line12 12 15 18\n",
      "largest number is 18\n"
     ]
    }
   ],
   "source": [
    "lst=list(map(int,input(\"enter the numbers in line\").split()))\n",
    "print('largest number is',max(lst))\n"
   ]
  },
  {
   "cell_type": "code",
   "execution_count": 40,
   "id": "14bbc23a",
   "metadata": {},
   "outputs": [
    {
     "name": "stdout",
     "output_type": "stream",
     "text": [
      "enter the numbers in line14 12 10 11\n",
      "largest number is 14\n"
     ]
    }
   ],
   "source": [
    "lst=list(map(int,input(\"enter the numbers in line\").split()))\n",
    "large_num=0\n",
    "for i in range(len(lst)):\n",
    "    if large_num<lst[i]:\n",
    "        \n",
    "        large_num=lst[i]\n",
    "print(\"largest number is\",large_num)"
   ]
  },
  {
   "cell_type": "markdown",
   "id": "16c0440a",
   "metadata": {
    "id": "16c0440a"
   },
   "source": [
    "#### 4. Take four numbers as input and find the second largest numer."
   ]
  },
  {
   "cell_type": "code",
   "execution_count": 48,
   "id": "RuBQfFAHWAlL",
   "metadata": {
    "id": "RuBQfFAHWAlL"
   },
   "outputs": [
    {
     "name": "stdout",
     "output_type": "stream",
     "text": [
      "enter the numbers in line9 8 7 5 6\n",
      "8\n"
     ]
    }
   ],
   "source": [
    "lst=list(map(int,input(\"enter the numbers in line \"  ).split()))\n",
    "lst.sort()\n",
    "print(lst[-2])"
   ]
  },
  {
   "cell_type": "markdown",
   "id": "2f6641a4",
   "metadata": {
    "id": "2f6641a4"
   },
   "source": [
    "#### 5. Create a dictionary having three items. Key of each item is the name of a student, value associated with each key is a list of marks in five subjects. Given this dictionary print the top and lowest scorers."
   ]
  },
  {
   "cell_type": "code",
   "execution_count": 70,
   "id": "R5C1C61OYuls",
   "metadata": {
    "id": "R5C1C61OYuls"
   },
   "outputs": [
    {
     "name": "stdout",
     "output_type": "stream",
     "text": [
      "98\n",
      "92\n",
      "89\n"
     ]
    }
   ],
   "source": [
    "students={'Tom':[89,98,45,67,89], 'Jon':[92,41,43,66,87], 'Bob':[67,53,89,89,34]}\n",
    "for j,i in students.items():\n",
    "    print(max(i))\n",
    "\n",
    "    "
   ]
  },
  {
   "cell_type": "markdown",
   "id": "64db0791",
   "metadata": {
    "id": "64db0791"
   },
   "source": [
    "#### 6. Create a dictionary (called data) of having at least 5 items : Usernames as keys and Passwords as values. Write a program that takes a username and a password as input. If the credentials match any iteam in the given dictionary data then print acces granted otherwise print whether username, password or both are wrong."
   ]
  },
  {
   "cell_type": "code",
   "execution_count": 54,
   "id": "WtqLAvhiazaM",
   "metadata": {
    "id": "WtqLAvhiazaM"
   },
   "outputs": [
    {
     "name": "stdout",
     "output_type": "stream",
     "text": [
      "enter the username  raj\n",
      "entr the password raj@123\n",
      "Access granted\n"
     ]
    }
   ],
   "source": [
    "credentials={'nikhil':'nikhil@123','ram':'ram@123','raj':'raj@123','sham':'sham@123','ganesh':'ganesh@123'}\n",
    "username=input('enter the username  ')\n",
    "password=input('entr the password ')\n",
    "if username in credentials.keys() and password in credentials.values():\n",
    "    print(\"Access granted\")\n",
    "else:\n",
    "    print('username,passwordor both are wrong')"
   ]
  },
  {
   "cell_type": "markdown",
   "id": "27c56bb8",
   "metadata": {
    "id": "27c56bb8"
   },
   "source": [
    "#### 7. Take a list as input in a single line containing 15 numbers as marks out of 100. The first five numbers in the list are marks of Tom, the middle 5 numbers are marks of Bob and the last 5 are the marks of Jon. Find out the top and lowest scorer."
   ]
  },
  {
   "cell_type": "code",
   "execution_count": null,
   "id": "ah156U4T9iat",
   "metadata": {
    "id": "ah156U4T9iat"
   },
   "outputs": [],
   "source": [
    "\n",
    "\n",
    "\n",
    "\n",
    "\n"
   ]
  },
  {
   "cell_type": "markdown",
   "id": "20f59542",
   "metadata": {
    "id": "20f59542"
   },
   "source": [
    "#### 8. Take a number as input and print whether the number is a multiple of 3,5 or both."
   ]
  },
  {
   "cell_type": "code",
   "execution_count": 57,
   "id": "otWg3MXaYing",
   "metadata": {
    "id": "otWg3MXaYing"
   },
   "outputs": [
    {
     "name": "stdout",
     "output_type": "stream",
     "text": [
      "enter the number 55\n",
      "given number is multiple of 3 or 5\n"
     ]
    }
   ],
   "source": [
    "num=int(input('enter the number '))\n",
    "if num%3==0 or num%5==0 :\n",
    "    print('given number is multiple of 3 or 5')"
   ]
  },
  {
   "cell_type": "markdown",
   "id": "b770e791",
   "metadata": {
    "id": "b770e791"
   },
   "source": [
    "#### 9. Write a program to take three strings as input and print the string having second largest number of words."
   ]
  },
  {
   "cell_type": "code",
   "execution_count": 62,
   "id": "872b605c",
   "metadata": {},
   "outputs": [
    {
     "name": "stdout",
     "output_type": "stream",
     "text": [
      "enter the string nikhil\n",
      "enter the string kil\n",
      "enter the string jukh\n",
      "jukh 1\n"
     ]
    }
   ],
   "source": [
    "str1=input('enter the string ', )\n",
    "str2=input('enter the string ', )\n",
    "str3=input('enter the string ', )\n",
    "num1=len(str1.split())\n",
    "num2=len(str2.split())\n",
    "num3=len(str3.split())\n",
    "if num1<num2<num3 or num3<num2<num1:\n",
    "    print(str2,num2)\n",
    "elif num2<num1<num3 or num3<num1<num2 :\n",
    "    print(str1,numfo1)\n",
    "else:\n",
    "    print(str3,num3)"
   ]
  },
  {
   "cell_type": "markdown",
   "id": "5a485c8c",
   "metadata": {
    "id": "5a485c8c"
   },
   "source": [
    "#### 10. Write a program to take four strings as input and print the string having third highest number of words."
   ]
  },
  {
   "cell_type": "code",
   "execution_count": null,
   "id": "19Wx8OZqk3UQ",
   "metadata": {
    "id": "19Wx8OZqk3UQ"
   },
   "outputs": [],
   "source": []
  }
 ],
 "metadata": {
  "colab": {
   "provenance": []
  },
  "kernelspec": {
   "display_name": "Python 3 (ipykernel)",
   "language": "python",
   "name": "python3"
  },
  "language_info": {
   "codemirror_mode": {
    "name": "ipython",
    "version": 3
   },
   "file_extension": ".py",
   "mimetype": "text/x-python",
   "name": "python",
   "nbconvert_exporter": "python",
   "pygments_lexer": "ipython3",
   "version": "3.9.13"
  }
 },
 "nbformat": 4,
 "nbformat_minor": 5
}
