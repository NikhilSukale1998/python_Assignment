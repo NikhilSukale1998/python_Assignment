{
 "cells": [
  {
   "cell_type": "markdown",
   "id": "4f1596de",
   "metadata": {
    "id": "4f1596de"
   },
   "source": [
    "# Functions\n",
    "- Write solution of each question in the cell given below the corresponsing question.\n",
    "- Function taking input refers to input as a parameter / argument being passed."
   ]
  },
  {
   "cell_type": "markdown",
   "id": "6f0d9ac3",
   "metadata": {
    "id": "6f0d9ac3"
   },
   "source": [
    "#### 1. Create a function that takes a list of numbers as input and returns the median."
   ]
  },
  {
   "cell_type": "code",
   "execution_count": 5,
   "id": "0a090145",
   "metadata": {
    "id": "0a090145"
   },
   "outputs": [],
   "source": [
    "lis=[47,45,48,49,42,41,41]\n",
    "\n",
    "def median(li):\n",
    "    num=len(li)\n",
    "    li.sort()\n",
    "    if num%2==0:\n",
    "        i=num//2\n",
    "        y=li[i]+li[i-1]\n",
    "        return y/2\n",
    "    else:\n",
    "        j=num//2\n",
    "        return li[j]"
   ]
  },
  {
   "cell_type": "code",
   "execution_count": 13,
   "id": "zsPDITuiIhY7",
   "metadata": {
    "id": "zsPDITuiIhY7"
   },
   "outputs": [
    {
     "data": {
      "text/plain": [
       "47"
      ]
     },
     "execution_count": 13,
     "metadata": {},
     "output_type": "execute_result"
    }
   ],
   "source": [
    "lis=[47,45,48,49,42,48,45,48,46]\n",
    "\n",
    "median(lis)"
   ]
  },
  {
   "cell_type": "markdown",
   "id": "18a107c4",
   "metadata": {
    "id": "18a107c4"
   },
   "source": [
    "#### 2. Create a function that takes a list of numbers as input and returns the mean."
   ]
  },
  {
   "cell_type": "code",
   "execution_count": 1,
   "id": "Vy8v3p_hIgsc",
   "metadata": {
    "id": "Vy8v3p_hIgsc"
   },
   "outputs": [],
   "source": [
    "def mean(li):\n",
    "    sum=0\n",
    "    n=len(li)\n",
    "    for i in li:\n",
    "        sum+=i\n",
    "    return sum/n"
   ]
  },
  {
   "cell_type": "code",
   "execution_count": 2,
   "id": "9533b14a",
   "metadata": {
    "id": "9533b14a"
   },
   "outputs": [
    {
     "data": {
      "text/plain": [
       "10.0"
      ]
     },
     "execution_count": 2,
     "metadata": {},
     "output_type": "execute_result"
    }
   ],
   "source": [
    "mean([10,10,10,10,10])\n",
    "\n"
   ]
  },
  {
   "cell_type": "code",
   "execution_count": null,
   "id": "617130fd",
   "metadata": {},
   "outputs": [],
   "source": []
  },
  {
   "cell_type": "markdown",
   "id": "34df49cf",
   "metadata": {
    "id": "34df49cf"
   },
   "source": [
    "#### 3. Create a function that takes a list of numbers as input and returns the standard deviation."
   ]
  },
  {
   "cell_type": "code",
   "execution_count": 41,
   "id": "5a089785",
   "metadata": {
    "id": "5a089785"
   },
   "outputs": [],
   "source": [
    "def std_dev(li):\n",
    "    x=sum(li)/len(li)\n",
    "    y=[((i-x)**2) for i in li]\n",
    "    var=sum(y)/len(li)\n",
    "    dev=var**.5\n",
    "    return dev"
   ]
  },
  {
   "cell_type": "code",
   "execution_count": 43,
   "id": "7QrYx5jiLON6",
   "metadata": {
    "id": "7QrYx5jiLON6"
   },
   "outputs": [
    {
     "data": {
      "text/plain": [
       "14.677079636857826"
      ]
     },
     "execution_count": 43,
     "metadata": {},
     "output_type": "execute_result"
    }
   ],
   "source": [
    "li=[47,45,48,49,42,48,45,48,50,14,12,14]\n",
    "std_dev(li)"
   ]
  },
  {
   "cell_type": "code",
   "execution_count": 48,
   "id": "a5d615a6",
   "metadata": {},
   "outputs": [
    {
     "data": {
      "text/plain": [
       "14.677079636857826"
      ]
     },
     "execution_count": 48,
     "metadata": {},
     "output_type": "execute_result"
    }
   ],
   "source": [
    "import statistics as stat\n",
    "li=[47,45,48,49,42,48,45,48,50,14,12,14]\n",
    "dev=stat.pstdev(li)\n",
    "dev"
   ]
  },
  {
   "cell_type": "markdown",
   "id": "9cc39352",
   "metadata": {
    "id": "9cc39352"
   },
   "source": [
    "#### 4. Create a function that takes a number as input and return True if the number is prime , False if not."
   ]
  },
  {
   "cell_type": "code",
   "execution_count": 23,
   "id": "722fc2fa",
   "metadata": {
    "id": "722fc2fa"
   },
   "outputs": [],
   "source": [
    "# n=input('enter the number')\n",
    "def prime_num(n):\n",
    "     c=0\n",
    "    if n<=1:\n",
    "        return False\n",
    "    else:\n",
    "        for i in range(2,n):\n",
    "            if n%i==0:\n",
    "                c+=1\n",
    "    if c==0:\n",
    "        return True\n",
    "    else:\n",
    "        return False\n",
    "            \n",
    "        "
   ]
  },
  {
   "cell_type": "code",
   "execution_count": 31,
   "id": "6d64d815",
   "metadata": {},
   "outputs": [
    {
     "data": {
      "text/plain": [
       "True"
      ]
     },
     "execution_count": 31,
     "metadata": {},
     "output_type": "execute_result"
    }
   ],
   "source": [
    "prime_num(127)"
   ]
  },
  {
   "cell_type": "code",
   "execution_count": 30,
   "id": "c8fa837d",
   "metadata": {},
   "outputs": [
    {
     "data": {
      "text/plain": [
       "120"
      ]
     },
     "execution_count": 30,
     "metadata": {},
     "output_type": "execute_result"
    }
   ],
   "source": []
  },
  {
   "cell_type": "markdown",
   "id": "4029f3a8",
   "metadata": {
    "id": "4029f3a8"
   },
   "source": [
    "#### 5. Create a function that takes a list of numbers as input and returns the variance."
   ]
  },
  {
   "cell_type": "code",
   "execution_count": 45,
   "id": "83d19248",
   "metadata": {
    "id": "83d19248"
   },
   "outputs": [],
   "source": [
    "def variance(li):\n",
    "    x=sum(li)/len(li)\n",
    "    y=[((i-x)**2) for i in li]\n",
    "    var=sum(y)/len(li)\n",
    "    \n",
    "    return var"
   ]
  },
  {
   "cell_type": "code",
   "execution_count": 46,
   "id": "6a2c63cc",
   "metadata": {},
   "outputs": [
    {
     "data": {
      "text/plain": [
       "215.41666666666666"
      ]
     },
     "execution_count": 46,
     "metadata": {},
     "output_type": "execute_result"
    }
   ],
   "source": [
    "li=[47,45,48,49,42,48,45,48,50,14,12,14]\n",
    "variance(li)"
   ]
  },
  {
   "cell_type": "markdown",
   "id": "7acad1bf",
   "metadata": {
    "id": "7acad1bf"
   },
   "source": [
    "#### 6. Create a function that takes a number as input and returns the factorial."
   ]
  },
  {
   "cell_type": "code",
   "execution_count": 9,
   "id": "f7c0877a",
   "metadata": {
    "id": "f7c0877a"
   },
   "outputs": [
    {
     "name": "stdout",
     "output_type": "stream",
     "text": [
      "enter the number10\n"
     ]
    },
    {
     "data": {
      "text/plain": [
       "3628800"
      ]
     },
     "execution_count": 9,
     "metadata": {},
     "output_type": "execute_result"
    }
   ],
   "source": [
    "def factorial(n=int(input(\"enter the number\"  ,))):\n",
    "    a=1\n",
    "    for i in range (1,n+1):\n",
    "        a*=i\n",
    "    return a\n",
    "factorial()"
   ]
  },
  {
   "cell_type": "markdown",
   "id": "b1e46b1f",
   "metadata": {
    "id": "b1e46b1f"
   },
   "source": [
    "#### 7. Create a function that takes two lists of same length as input and returns a list consisting of larger element at each position after comparing the corresponding elements in the given lists."
   ]
  },
  {
   "cell_type": "code",
   "execution_count": 19,
   "id": "bc428d22",
   "metadata": {
    "id": "bc428d22"
   },
   "outputs": [],
   "source": [
    "def greater_list(list1,list2):\n",
    "    emp=[]\n",
    "    n=len(list1)\n",
    "    for i in range (len(list1)):\n",
    "        if list1[i]>list2[i]:\n",
    "            emp.append(list1[i])\n",
    "        else:\n",
    "            emp.append(list2[i])\n",
    "    return emp"
   ]
  },
  {
   "cell_type": "code",
   "execution_count": 23,
   "id": "b926e190",
   "metadata": {},
   "outputs": [
    {
     "data": {
      "text/plain": [
       "[1, 25, 15, 55, 25]"
      ]
     },
     "execution_count": 23,
     "metadata": {},
     "output_type": "execute_result"
    }
   ],
   "source": [
    "list1=[1,14,15,55,20]\n",
    "list2=[1,25,1,55,25]\n",
    "greater_list(list1,list2)"
   ]
  },
  {
   "cell_type": "markdown",
   "id": "f397889f",
   "metadata": {
    "id": "f397889f"
   },
   "source": [
    "#### 8. Create a function that takes a string and returns a string after joining the words that are having even lengths."
   ]
  },
  {
   "cell_type": "code",
   "execution_count": 53,
   "id": "ebf96e1c",
   "metadata": {
    "id": "ebf96e1c"
   },
   "outputs": [],
   "source": [
    "def joiner(str):\n",
    "    st=\"\"\n",
    "    n=str.split()\n",
    "    for i in range(len(n)):\n",
    "        if len(n[i])%2==0:\n",
    "            st+=\" \"+ n[i] \n",
    "    return st  \n",
    "            "
   ]
  },
  {
   "cell_type": "code",
   "execution_count": 54,
   "id": "938b92b8",
   "metadata": {},
   "outputs": [
    {
     "data": {
      "text/plain": [
       "' my name is'"
      ]
     },
     "execution_count": 54,
     "metadata": {},
     "output_type": "execute_result"
    }
   ],
   "source": [
    "joiner(\"my name is nik\")"
   ]
  },
  {
   "cell_type": "markdown",
   "id": "36c6aae1",
   "metadata": {
    "id": "36c6aae1"
   },
   "source": [
    "#### 9. Create a function that takes a string and a character as input and returns a list after splitting the string based on the given character. By Default split based on whitespace. (Create a function similar to the inbuilt split function without using it)."
   ]
  },
  {
   "cell_type": "code",
   "execution_count": 67,
   "id": "869d7244",
   "metadata": {
    "id": "869d7244"
   },
   "outputs": [
    {
     "name": "stdout",
     "output_type": "stream",
     "text": [
      "['this is,a,example']\n"
     ]
    }
   ],
   "source": [
    "def splitter(str,sign=None):\n",
    "#     str=input(\"enter the string\",)\n",
    "#     sign=input(\"enter the character\",)\n",
    "    h=[]\n",
    "    temp=\"\"\n",
    "    for i in str:\n",
    "        if i==sign:\n",
    "            if temp:\n",
    "                h.append(temp)\n",
    "                temp=\" \"\n",
    "        else:\n",
    "            temp+=i\n",
    "    if temp:\n",
    "        h.append(temp)\n",
    "    return h\n",
    "            \n",
    "print(splitter(\"this is,a,example\"))          \n",
    "    \n",
    "    "
   ]
  },
  {
   "cell_type": "code",
   "execution_count": 33,
   "id": "71071e12",
   "metadata": {},
   "outputs": [
    {
     "name": "stdout",
     "output_type": "stream",
     "text": [
      "mynameiskhan\n"
     ]
    }
   ],
   "source": [
    "st=\"my name is khan\"\n",
    "l=\"\"\n",
    "for i in st:\n",
    "    if i!=\" \":\n",
    "        l+=i\n",
    "    else:\n",
    "        pass\n",
    "        \n",
    "print(l)"
   ]
  },
  {
   "cell_type": "markdown",
   "id": "f12cc8c9",
   "metadata": {
    "id": "f12cc8c9"
   },
   "source": [
    "#### 10. Create a function which takes a txt filename as input and returns the number of words in that file."
   ]
  },
  {
   "cell_type": "code",
   "execution_count": 44,
   "id": "46492494",
   "metadata": {
    "id": "46492494"
   },
   "outputs": [],
   "source": [
    "\n",
    "def write(file):\n",
    "    try:  \n",
    "        f=open(file,\"r\")\n",
    "        return len(f.read().split())\n",
    "    except FileNotFoundError as e:\n",
    "        print(\"no such file found\")\n",
    "        return 0\n",
    "        "
   ]
  },
  {
   "cell_type": "code",
   "execution_count": 45,
   "id": "d8cd8a91",
   "metadata": {},
   "outputs": [
    {
     "name": "stdout",
     "output_type": "stream",
     "text": [
      "no such file found\n"
     ]
    },
    {
     "data": {
      "text/plain": [
       "0"
      ]
     },
     "execution_count": 45,
     "metadata": {},
     "output_type": "execute_result"
    }
   ],
   "source": [
    "write(\"text.txt\")"
   ]
  },
  {
   "cell_type": "code",
   "execution_count": 46,
   "id": "4e477f0a",
   "metadata": {},
   "outputs": [
    {
     "data": {
      "text/plain": [
       "6"
      ]
     },
     "execution_count": 46,
     "metadata": {},
     "output_type": "execute_result"
    }
   ],
   "source": [
    "write(\"hobby.txt\")"
   ]
  },
  {
   "cell_type": "markdown",
   "id": "b2666c95",
   "metadata": {
    "id": "b2666c95"
   },
   "source": [
    "#### 11. Create a function which takes a txt filename as input and returns the number of line in the file."
   ]
  },
  {
   "cell_type": "code",
   "execution_count": 35,
   "id": "5ff27d42",
   "metadata": {
    "id": "5ff27d42"
   },
   "outputs": [],
   "source": [
    "def count_lines(file):\n",
    "    try:\n",
    "        f=open(file,\"r\")\n",
    "        return  len(f.readlines())\n",
    "    except FileNotFoundError as e:\n",
    "        print(\"no such file found\")\n",
    "        return 0"
   ]
  },
  {
   "cell_type": "code",
   "execution_count": 47,
   "id": "1a2d957a",
   "metadata": {},
   "outputs": [
    {
     "data": {
      "text/plain": [
       "5"
      ]
     },
     "execution_count": 47,
     "metadata": {},
     "output_type": "execute_result"
    }
   ],
   "source": [
    "count_lines(\"hobby.txt\")"
   ]
  },
  {
   "cell_type": "markdown",
   "id": "6722fb75",
   "metadata": {
    "id": "6722fb75"
   },
   "source": [
    "#### 12. Create a function that takes two txt filenames and returns a file after merging the cintents of two given files. (Print the merged content and then return the filename, content of original files should be unchanged)."
   ]
  },
  {
   "cell_type": "code",
   "execution_count": null,
   "id": "86a4b436",
   "metadata": {
    "id": "86a4b436"
   },
   "outputs": [],
   "source": []
  },
  {
   "cell_type": "markdown",
   "id": "faf26668",
   "metadata": {
    "id": "faf26668"
   },
   "source": [
    "#### 13. Write a program that takes a string as input and returns a list of all words having even length in that string (Using Map/Filter and Lambda expression)."
   ]
  },
  {
   "cell_type": "code",
   "execution_count": null,
   "id": "955cd692",
   "metadata": {
    "id": "955cd692"
   },
   "outputs": [],
   "source": []
  },
  {
   "cell_type": "code",
   "execution_count": null,
   "id": "A1z_AdWcyKJi",
   "metadata": {
    "id": "A1z_AdWcyKJi"
   },
   "outputs": [],
   "source": []
  }
 ],
 "metadata": {
  "colab": {
   "provenance": []
  },
  "kernelspec": {
   "display_name": "Python 3 (ipykernel)",
   "language": "python",
   "name": "python3"
  },
  "language_info": {
   "codemirror_mode": {
    "name": "ipython",
    "version": 3
   },
   "file_extension": ".py",
   "mimetype": "text/x-python",
   "name": "python",
   "nbconvert_exporter": "python",
   "pygments_lexer": "ipython3",
   "version": "3.9.13"
  }
 },
 "nbformat": 4,
 "nbformat_minor": 5
}
