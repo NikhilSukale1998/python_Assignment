{
 "cells": [
  {
   "cell_type": "markdown",
   "id": "d72f8ceb",
   "metadata": {
    "id": "d72f8ceb"
   },
   "source": [
    "# Assessment - 5 Gradable\n",
    "\n",
    "- Each question carries 5 or 4 marks\n",
    "- Marks will be assigned in terms of:\n",
    "    \n",
    "    **1. Expected output**\n",
    "    \n",
    "    **2. Quality and Explainability of code**\n",
    "\n",
    "    ***Go back through the script and type a comment above each line explaining in English what it does.***\n",
    "\n",
    "    **3. Copied code, if found, will result in 0 marks for that question. To avoid this make as much comments in the code to explain the approach**"
   ]
  },
  {
   "cell_type": "markdown",
   "id": "e5819cc0",
   "metadata": {
    "id": "e5819cc0"
   },
   "source": [
    "### 1. \n",
    "\n",
    "Write a Python function that prints out the first n rows of Pascal's triangle.\n",
    "\n",
    "- Input : 5\n",
    "- Output: \n",
    "          1\n",
    "         1 1\n",
    "        1 2 1\n",
    "       1 3 3 1\n",
    "      1 4 6 4 1\n",
    "\n",
    "**Very interesting video on PASCAL TRIANGLE (must watch if you are interested to know more about pascal Triangle)**\n",
    "- https://www.youtube.com/watch?v=0iMtlus-afo&t=668s&ab_channel=Numberphile"
   ]
  },
  {
   "cell_type": "code",
   "execution_count": null,
   "id": "88e3b5b4",
   "metadata": {
    "id": "88e3b5b4"
   },
   "outputs": [],
   "source": []
  },
  {
   "cell_type": "code",
   "execution_count": 16,
   "id": "962dab93",
   "metadata": {},
   "outputs": [
    {
     "name": "stdout",
     "output_type": "stream",
     "text": [
      "    1    \n",
      "   1 1   \n",
      "  1 2 1  \n",
      " 1 3 3 1 \n",
      "1 4 6 4 1\n"
     ]
    }
   ],
   "source": [
    "def generate_pascals_triangle(num_rows):\n",
    "    \n",
    "    triangle = []\n",
    "\n",
    "    for row_num in range(num_rows):\n",
    "        row = [1]                                # Start the row with a 1\n",
    "        \n",
    "        if triangle:                              # If not the first row\n",
    "            # Calculate the middle elements by adding the appropriate elements from the previous row\n",
    "            last_row = triangle[-1]\n",
    "            row.extend([last_row[i] + last_row[i + 1] for i in range(len(last_row) - 1)])\n",
    "            \n",
    "            # End the row with a 1\n",
    "            row.append(1)\n",
    "        \n",
    "        triangle.append(row)\n",
    "\n",
    "    return triangle\n",
    "\n",
    "def print_pascals_triangle(triangle):\n",
    "    \"\"\"\n",
    "    Print Pascal's Triangle in a formatted way.\n",
    "\n",
    "    :param triangle: Pascal's Triangle as a list of lists.\n",
    "    \"\"\"\n",
    "    max_width = len(\" \".join(map(str, triangle[-1])))\n",
    "    \n",
    "    for row in triangle:\n",
    "        print(\" \".join(map(str, row)).center(max_width))\n",
    "\n",
    "# Example usage:\n",
    "num_rows = 5  # Change this value to generate more or fewer rows\n",
    "pascals_triangle = generate_pascals_triangle(num_rows)\n",
    "print_pascals_triangle(pascals_triangle)\n"
   ]
  },
  {
   "cell_type": "markdown",
   "id": "6b3f11fd",
   "metadata": {
    "id": "6b3f11fd"
   },
   "source": [
    "### 2. \n",
    "\n",
    "Write a function to print following pattern\n",
    "\n",
    "    1  \n",
    "    2  4  \n",
    "    3  6  9  \n",
    "    4  8  12  16  \n",
    "    5  10  15  20  25  \n",
    "    6  12  18  24  30  36  \n",
    "    7  14  21  28  35  42  49  \n",
    "    8  16  24  32  40  48  56  64  "
   ]
  },
  {
   "cell_type": "code",
   "execution_count": 3,
   "id": "15e45ae3",
   "metadata": {
    "id": "15e45ae3"
   },
   "outputs": [
    {
     "name": "stdout",
     "output_type": "stream",
     "text": [
      "Enter the number of rows:5\n",
      " 1\n",
      " 1 2\n",
      " 1 2 3\n",
      " 1 2 3 4\n",
      " 1 2 3 4 5\n"
     ]
    }
   ],
   "source": [
    "num = int(input(\"Enter the number of rows:\"))\n",
    "\n",
    "for n in range(1, num + 1):\n",
    "    for m in range(1,i):\n",
    "        print(m, end=\"\")\n",
    "\n",
    "                                                        # first element is always 1\n",
    "    B = 1\n",
    "    for m in range(1, n + 1):\n",
    "\n",
    "                                                         # first value in a line is always 1\n",
    "        print(\" \", m, sep=\"\", end=\"\")\n",
    "\n",
    "                                                             # using Binomial Coefficient\n",
    "#         BC = B * (n - m) // m\n",
    "    print()"
   ]
  },
  {
   "cell_type": "markdown",
   "id": "42453e7d",
   "metadata": {
    "id": "42453e7d"
   },
   "source": [
    "### 3. \n",
    "\n",
    "Write a function ``how_many_primes`` that returns the number of prime numbers that exist up to and including a given number\n",
    "\n",
    "- how_many_primes(100) --> 25"
   ]
  },
  {
   "cell_type": "code",
   "execution_count": null,
   "id": "b3302ec4",
   "metadata": {
    "id": "b3302ec4"
   },
   "outputs": [],
   "source": [
    "   \n",
    "            "
   ]
  },
  {
   "cell_type": "code",
   "execution_count": 3,
   "id": "29f96e46",
   "metadata": {},
   "outputs": [],
   "source": [
    "def how_many_primes(n):\n",
    "    count=0\n",
    "    for num in range(n+1):\n",
    "        if num>1:\n",
    "            for i in range (2, num):\n",
    "                if num%i==0:\n",
    "                    \n",
    "                    break\n",
    "            else:\n",
    "                count+=1\n",
    "#                 print('this is prime number',num) \n",
    "    return count"
   ]
  },
  {
   "cell_type": "code",
   "execution_count": 4,
   "id": "674884e1",
   "metadata": {},
   "outputs": [
    {
     "data": {
      "text/plain": [
       "25"
      ]
     },
     "execution_count": 4,
     "metadata": {},
     "output_type": "execute_result"
    }
   ],
   "source": [
    "how_many_primes(100)\n"
   ]
  },
  {
   "cell_type": "markdown",
   "id": "2b5f6f63",
   "metadata": {
    "id": "2b5f6f63"
   },
   "source": [
    "### 4. \n",
    "\n",
    "b = open(\"assignment.txt\")\n",
    "\n",
    "Consider the code given above and write the answers to the following :\n",
    "\n",
    "- Identify the name of the file : assignment.txt \n",
    "- Identify the name of the function used above : open()\n",
    "- What is 'b' in above code : varible or file object\n",
    "- The above statement will  _open_ file in _read_ mode."
   ]
  },
  {
   "cell_type": "markdown",
   "id": "6c9eb680",
   "metadata": {
    "id": "6c9eb680"
   },
   "source": [
    "### 5.\n",
    "\n",
    "Accept five hobbies from the user and write in a file 'hobby.txt'. Then Read the file to list out all the 5 hobbies from the user."
   ]
  },
  {
   "cell_type": "code",
   "execution_count": 1,
   "id": "1b9db22c",
   "metadata": {
    "id": "1b9db22c"
   },
   "outputs": [
    {
     "name": "stdout",
     "output_type": "stream",
     "text": [
      "Enter your five hobbies:\n",
      "Hobby 1: reading\n",
      "Hobby 2: music\n",
      "Hobby 3: wathcing\n",
      "Hobby 4: playing\n",
      "Hobby 5: game\n",
      "Hobbies have been written to 'hobby.txt' file.\n",
      "\n",
      "Reading hobbies from file:\n",
      "Hobby 1: reading\n",
      "Hobby 2: music\n",
      "Hobby 3: wathcing\n",
      "Hobby 4: playing\n",
      "Hobby 5: game\n"
     ]
    }
   ],
   "source": [
    "def write_hobbies_to_file(hobbies):\n",
    "    with open('hobby.txt', 'w') as file:\n",
    "        for hobby in hobbies:\n",
    "            file.write(hobby + '\\n')\n",
    "\n",
    "def read_hobbies_from_file():\n",
    "    with open('hobby.txt', 'r') as file:\n",
    "        hobbies = file.readlines()\n",
    "        return [hobby.strip() for hobby in hobbies]\n",
    "\n",
    "# Taking input from the user for hobbies\n",
    "hobbies = []\n",
    "print(\"Enter your five hobbies:\")\n",
    "for i in range(5):\n",
    "    hobby = input(\"Hobby {}: \".format(i + 1))\n",
    "    hobbies.append(hobby)\n",
    "\n",
    "# Writing hobbies to file\n",
    "write_hobbies_to_file(hobbies)\n",
    "print(\"Hobbies have been written to 'hobby.txt' file.\")\n",
    "\n",
    "# Reading hobbies from file\n",
    "print(\"\\nReading hobbies from file:\")\n",
    "hobbies_from_file = read_hobbies_from_file()\n",
    "for i, hobby in enumerate(hobbies_from_file):\n",
    "    print(\"Hobby {}: {}\".format(i + 1, hobby))\n",
    "\n",
    "    "
   ]
  },
  {
   "cell_type": "code",
   "execution_count": null,
   "id": "2270204b",
   "metadata": {},
   "outputs": [],
   "source": []
  }
 ],
 "metadata": {
  "colab": {
   "provenance": []
  },
  "kernelspec": {
   "display_name": "Python 3 (ipykernel)",
   "language": "python",
   "name": "python3"
  },
  "language_info": {
   "codemirror_mode": {
    "name": "ipython",
    "version": 3
   },
   "file_extension": ".py",
   "mimetype": "text/x-python",
   "name": "python",
   "nbconvert_exporter": "python",
   "pygments_lexer": "ipython3",
   "version": "3.9.13"
  }
 },
 "nbformat": 4,
 "nbformat_minor": 5
}
